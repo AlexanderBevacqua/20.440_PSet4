{
 "cells": [
  {
   "cell_type": "code",
   "execution_count": null,
   "id": "24498f2d",
   "metadata": {},
   "outputs": [],
   "source": [
    "'''20.440 Problem Set 4\n",
    "Name: Alexander Bevacqua\n",
    "____\n",
    "Reproducible, shareable code\n",
    "Due 14 Mar 2022'''"
   ]
  },
  {
   "cell_type": "code",
   "execution_count": 37,
   "id": "1c1c4e99",
   "metadata": {},
   "outputs": [
    {
     "data": {
      "image/png": "[encoded data removed]",
      "text/plain": [
       "<Figure size 720x360 with 1 Axes>"
      ]
     },
     "metadata": {
      "needs_background": "light"
     },
     "output_type": "display_data"
    }
   ],
   "source": [
    "import os\n",
    "import glob\n",
    "from matplotlib import pyplot as plt\n",
    "import pandas as pd\n",
    "import numpy as np\n",
    "\n",
    "# In the current working directory, we get eRNA csv files\n",
    "path = os.getcwd() + '/Data/'\n",
    "csv_files = glob.glob(os.path.join(path, \"*.csv\"))\n",
    "\n",
    "# Set empty arrays for names, means, \n",
    "# and standard deviations\n",
    "mean_expression_levels = []\n",
    "std_expression_levels = []\n",
    "names = []\n",
    "\n",
    "# We loop through the eRNA expression csv files\n",
    "for f in csv_files:\n",
    "    \n",
    "    # Extract the eRNA from the filename\n",
    "    eRNA_identity = f.split('_')[3]\n",
    "    \n",
    "    # Getting the patient-measured expression levels\n",
    "    df = pd.read_csv(f)\n",
    "    expression = df[\"exp\"].tolist()\n",
    "    \n",
    "    # Computing mean and standard deviation\n",
    "    mean_expression_level = np.mean(expression)\n",
    "    std_expression_level = np.std(expression)\n",
    "    \n",
    "    # Creating vectors with names, means, \n",
    "    # and standard deviations\n",
    "    name = str(df.iloc[1][-1])\n",
    "    mean_expression_levels.append(mean_expression_level)\n",
    "    std_expression_levels.append(std_expression_level)\n",
    "    names.append(name)\n",
    "\n",
    "# Creating a bar graph with error bars\n",
    "fig, ax = plt.subplots(figsize=(10, 5))\n",
    "ax.bar(np.arange(len(names)), mean_expression_levels, \n",
    "       yerr=std_expression_levels, align='center', alpha=0.5, \n",
    "       ecolor='black', capsize=20)\n",
    "plot_title = f'{eRNA_identity} eRNA expression level in different human tissues'\n",
    "\n",
    "ax.set_title(plot_title)\n",
    "ax.yaxis.grid(True)\n",
    "ax.set_ylabel('Expression (reads per million)')\n",
    "ax.set_xticks(np.arange(len(names)))\n",
    "ax.set_xticklabels(names)\n",
    "plt.tight_layout()\n",
    "\n",
    "i = 0\n",
    "for rect in ax.patches:\n",
    "    height = rect.get_height()\n",
    "    ax.annotate(f'{\"{:.1f}\".format(mean_expression_levels[i])}', \n",
    "                xy=(rect.get_x()+rect.get_width()/2, height),\n",
    "                xytext=(5, 5), textcoords='offset points', \n",
    "                ha='left', va='bottom')\n",
    "    i += 1\n",
    "    \n",
    "\n",
    "plt.savefig(f\"Figures/Problem Set 4, {plot_title}.png\", \n",
    "            dpi=300)\n",
    "plt.show()\n"
   ]
  }
 ],
 "metadata": {
  "kernelspec": {
   "display_name": "Python 3",
   "language": "python",
   "name": "python3"
  },
  "language_info": {
   "codemirror_mode": {
    "name": "ipython",
    "version": 3
   },
   "file_extension": ".py",
   "mimetype": "text/x-python",
   "name": "python",
   "nbconvert_exporter": "python",
   "pygments_lexer": "ipython3",
   "version": "3.8.8"
  }
 },
 "nbformat": 4,
 "nbformat_minor": 5
}
